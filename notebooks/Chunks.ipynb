{
 "cells": [
  {
   "cell_type": "code",
   "execution_count": 76,
   "metadata": {},
   "outputs": [
    {
     "name": "stdout",
     "output_type": "stream",
     "text": [
      "⬜️ ⬜️ ⬜️ ⬜️ ⬜️ ⬜️ ⬜️ ⬜️ ⬜️ ⬜️ \n",
      "⬜️ ⬜️ ⬜️ ⬜️ ⬜️ ⬜️ ⬜️ ⬜️ ⬜️ ⬜️ \n",
      "⬜️ ⬜️ ⬜️ ⬜️ ⬜️ ⬜️ ⬜️ ⬜️ ⬜️ ⬜️ \n",
      "⬜️ ⬜️ ⬜️ ⬜️ ⬜️ ⬜️ ⬜️ ⬜️ ⬜️ ⬜️ \n",
      "⬜️ ⬜️ ⬜️ ⬜️ ⬜️ ⬜️ ⬜️ ⬜️ ⬜️ ⬜️ \n",
      "⬜️ ⬜️ ⬜️ ⬜️ ⬜️ ⬜️ ⬜️ ⬜️ ⬜️ ⬜️ \n",
      "⬜️ ⬜️ ⬜️ ⬜️ ⬜️ ⬜️ ⬜️ ⬜️ ⬜️ ⬜️ \n",
      "⬜️ ⬜️ ⬜️ ⬜️ ⬜️ ⬜️ ⬜️ ⬜️ ⬜️ ⬜️ \n",
      "🟦 🟦 🟦 🟦 🟦 ⬜️ ⬜️ ⬜️ ⬜️ ⬜️ \n",
      "🟦 🟦 🟦 🟦 🟦 🟦 🟦 🟦 🟦 🟦 \n"
     ]
    }
   ],
   "source": [
    "CHUNK_SIZE = 15\n",
    "\n",
    "\n",
    "class Land:\n",
    "\n",
    "    def __init__(self, lim_x=0, lim_y=0):\n",
    "        self.lim_x = lim_x\n",
    "        self.lim_y = lim_y\n",
    "        self.y_bound = []\n",
    "        self.plot = [[0] * lim_x for _ in range(lim_y)]\n",
    "\n",
    "    def add_chunk(self):\n",
    "        count = 0\n",
    "        for y in range(len(self.y_bound)):\n",
    "            for x in range(self.y_bound[y], self.lim_x):\n",
    "                self.initialize_slot(x, y)\n",
    "                self.y_bound[y] += 1\n",
    "                count += 1\n",
    "                if(count == CHUNK_SIZE):\n",
    "                    break\n",
    "            if(count == CHUNK_SIZE):\n",
    "                break\n",
    "\n",
    "        \n",
    "\n",
    "    def initialize_slot(self, x, y):\n",
    "        self.plot[y][x] = 1\n",
    "\n",
    "    def expand_land(self, x2, y2):\n",
    "        for i in range(y2):\n",
    "            self.y_bound.append(0) \n",
    "\n",
    "        # Expand each existing row by x2\n",
    "        for row in self.plot:\n",
    "            row.extend([0] * x2)\n",
    "\n",
    "        # Add new rows increased by y2\n",
    "        new_rows = [0] * (self.lim_x + x2)\n",
    "        for _ in range(y2):\n",
    "            self.plot.append(new_rows[:])  # Create a copy of new_rows\n",
    "\n",
    "        # Update the limits\n",
    "        self.lim_x += x2\n",
    "        self.lim_y += y2\n",
    "\n",
    "    def check_bounds(self, x, y):\n",
    "        return y < self.lim_y and x < self.y_bound[y]\n",
    "\n",
    "    def display_land(self):\n",
    "        for row in reversed(self.plot):\n",
    "            for element in row:\n",
    "                if element == 0: \n",
    "                    print(\"⬜️\", end=' ')\n",
    "                elif element == 1: \n",
    "                    print(\"🟦\", end=' ')\n",
    "                else: \n",
    "                    print(\"❔\", end=' ')\n",
    "            print()\n",
    "\n",
    "land = Land()\n",
    "land.expand_land(10, 10)\n",
    "\n",
    "land.add_chunk()\n",
    "land.display_land()"
   ]
  },
  {
   "cell_type": "code",
   "execution_count": 96,
   "metadata": {},
   "outputs": [
    {
     "name": "stdout",
     "output_type": "stream",
     "text": [
      "[10, 10, 10, 10, 10, 10, 10, 10, 10, 0]\n"
     ]
    },
    {
     "data": {
      "text/plain": [
       "False"
      ]
     },
     "execution_count": 96,
     "metadata": {},
     "output_type": "execute_result"
    }
   ],
   "source": [
    "print(land.y_bound)\n",
    "land.check_bounds(0,150)"
   ]
  },
  {
   "cell_type": "code",
   "execution_count": 100,
   "metadata": {},
   "outputs": [
    {
     "name": "stdout",
     "output_type": "stream",
     "text": [
      "🟦 🟦 🟦 🟦 🟦 🟦 🟦 🟦 🟦 🟦 \n",
      "🟦 🟦 🟦 🟦 🟦 🟦 🟦 🟦 🟦 🟦 \n",
      "🟦 🟦 🟦 🟦 🟦 🟦 🟦 🟦 🟦 🟦 \n",
      "🟦 🟦 🟦 🟦 🟦 🟦 🟦 🟦 🟦 🟦 \n",
      "🟦 🟦 🟦 🟦 🟦 🟦 🟦 🟦 🟦 🟦 \n",
      "🟦 🟦 🟦 🟦 🟦 🟦 🟦 🟦 🟦 🟦 \n",
      "🟦 🟦 🟦 🟦 🟦 🟦 🟦 🟦 🟦 🟦 \n",
      "🟦 🟦 🟦 🟦 🟦 🟦 🟦 🟦 🟦 🟦 \n",
      "🟦 🟦 🟦 🟦 🟦 🟦 🟦 🟦 🟦 🟦 \n",
      "🟦 🟦 🟦 🟦 🟦 🟦 🟦 🟦 🟦 🟦 \n"
     ]
    }
   ],
   "source": [
    "land.add_chunk()\n",
    "land.display_land()"
   ]
  },
  {
   "cell_type": "code",
   "execution_count": 101,
   "metadata": {},
   "outputs": [
    {
     "data": {
      "text/plain": [
       "False"
      ]
     },
     "execution_count": 101,
     "metadata": {},
     "output_type": "execute_result"
    }
   ],
   "source": [
    "land.check_bounds(10,2)"
   ]
  },
  {
   "cell_type": "code",
   "execution_count": null,
   "metadata": {},
   "outputs": [],
   "source": []
  }
 ],
 "metadata": {
  "kernelspec": {
   "display_name": "bam",
   "language": "python",
   "name": "python3"
  },
  "language_info": {
   "codemirror_mode": {
    "name": "ipython",
    "version": 3
   },
   "file_extension": ".py",
   "mimetype": "text/x-python",
   "name": "python",
   "nbconvert_exporter": "python",
   "pygments_lexer": "ipython3",
   "version": "3.9.6"
  }
 },
 "nbformat": 4,
 "nbformat_minor": 2
}
